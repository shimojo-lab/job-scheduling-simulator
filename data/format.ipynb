{
 "cells": [
  {
   "cell_type": "code",
   "execution_count": 1,
   "metadata": {},
   "outputs": [],
   "source": [
    "import pandas as pd"
   ]
  },
  {
   "cell_type": "code",
   "execution_count": 19,
   "metadata": {},
   "outputs": [],
   "source": [
    "jobs_list = [\n",
    "    'previous-method',\n",
    "    'proposed-method',\n",
    "]\n",
    "\n",
    "dataset_list = [\n",
    "    'dataset-231121.parquet',\n",
    "    'dataset-240111.parquet',\n",
    "]\n",
    "\n",
    "result_list = [\n",
    "    'result-231121-既存手法.parquet',\n",
    "    'result-240111-提案手法.parquet',\n",
    "]\n",
    "\n",
    "for dataset, result, jobs in zip(dataset_list, result_list, jobs_list):\n",
    "    dataset = pd.read_parquet(dataset)\n",
    "    result = pd.read_parquet(result)\n",
    "    result = pd.merge(result, dataset[['log_id', 'ehost_num']], on='log_id')\n",
    "    result.to_parquet(f'jobs-{jobs}.parquet')"
   ]
  }
 ],
 "metadata": {
  "kernelspec": {
   "display_name": ".venv",
   "language": "python",
   "name": "python3"
  },
  "language_info": {
   "codemirror_mode": {
    "name": "ipython",
    "version": 3
   },
   "file_extension": ".py",
   "mimetype": "text/x-python",
   "name": "python",
   "nbconvert_exporter": "python",
   "pygments_lexer": "ipython3",
   "version": "3.11.4"
  }
 },
 "nbformat": 4,
 "nbformat_minor": 2
}
