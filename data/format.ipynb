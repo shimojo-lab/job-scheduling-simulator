{
 "cells": [
  {
   "cell_type": "code",
   "execution_count": 1,
   "metadata": {},
   "outputs": [],
   "source": [
    "import pandas as pd\n",
    "import numpy as np"
   ]
  },
  {
   "cell_type": "code",
   "execution_count": 2,
   "metadata": {},
   "outputs": [],
   "source": [
    "jobs_list = [\n",
    "    'previous-method',\n",
    "    'proposed-method',\n",
    "]\n",
    "\n",
    "dataset_list = [\n",
    "    'dataset-231121.parquet',\n",
    "    'dataset-240111.parquet',\n",
    "]\n",
    "\n",
    "result_list = [\n",
    "    'result-231121-既存手法.parquet',\n",
    "    'result-240111-提案手法.parquet',\n",
    "]\n",
    "\n",
    "for dataset, result, jobs in zip(dataset_list, result_list, jobs_list):\n",
    "    dataset = pd.read_parquet(dataset)\n",
    "    result = pd.read_parquet(result)\n",
    "    result = pd.merge(result, dataset[['log_id', 'ehost_num']], on='log_id')\n",
    "    result['y_pred'] = np.where(result['y_pred'] < 1, 1, result['y_pred'])\n",
    "    result.to_parquet(f'jobs-{jobs}.parquet')"
   ]
  },
  {
   "cell_type": "code",
   "execution_count": 3,
   "metadata": {},
   "outputs": [],
   "source": [
    "data = pd.read_parquet('dataset-231121.parquet')"
   ]
  },
  {
   "cell_type": "code",
   "execution_count": 4,
   "metadata": {},
   "outputs": [],
   "source": [
    "# last2\n",
    "data[[\"log_id\", \"ehost_num\", \"real_sec\", \"y_pred_last2\"]].rename(\n",
    "    columns={\"y_pred_last2\": \"y_pred\", \"real_sec\": \"y_true\"}\n",
    ").to_parquet('jobs-last2.parquet')"
   ]
  },
  {
   "cell_type": "code",
   "execution_count": 5,
   "metadata": {},
   "outputs": [],
   "source": [
    "# ユーザの要求ジョブ実行時間\n",
    "data[[\"log_id\", \"ehost_num\", \"real_sec\", \"req_elapse_sec\"]].rename(\n",
    "    columns={\"req_elapse_sec\": \"y_pred\", \"real_sec\": \"y_true\"}\n",
    ").to_parquet('jobs-user-estimation.parquet')"
   ]
  },
  {
   "cell_type": "code",
   "execution_count": null,
   "metadata": {},
   "outputs": [],
   "source": []
  }
 ],
 "metadata": {
  "kernelspec": {
   "display_name": ".venv",
   "language": "python",
   "name": "python3"
  },
  "language_info": {
   "codemirror_mode": {
    "name": "ipython",
    "version": 3
   },
   "file_extension": ".py",
   "mimetype": "text/x-python",
   "name": "python",
   "nbconvert_exporter": "python",
   "pygments_lexer": "ipython3",
   "version": "3.8.5"
  }
 },
 "nbformat": 4,
 "nbformat_minor": 2
}
